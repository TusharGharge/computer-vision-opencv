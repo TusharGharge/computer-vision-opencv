{
 "cells": [
  {
   "cell_type": "code",
   "execution_count": 124,
   "metadata": {},
   "outputs": [],
   "source": [
    "import cv2\n",
    "import numpy as np\n",
    "import matplotlib.pyplot as plt\n",
    "\n",
    "%matplotlib inline\n",
    "from tkinter import *\n",
    "import tkinter as tk\n"
   ]
  },
  {
   "cell_type": "code",
   "execution_count": 125,
   "metadata": {},
   "outputs": [],
   "source": [
    "root=tk.Tk()\n",
    "root.minsize(width=300,height=300)\n",
    "root.maxsize(width=500,height=500)"
   ]
  },
  {
   "cell_type": "code",
   "execution_count": 126,
   "metadata": {},
   "outputs": [],
   "source": [
    "#face .xml tarin file\n",
    "face_cascade=cv2.CascadeClassifier('haarcascades/haarcascade_frontalface_default.xml')"
   ]
  },
  {
   "cell_type": "code",
   "execution_count": 127,
   "metadata": {},
   "outputs": [],
   "source": [
    "#function for face \n",
    "def detct_face(img):\n",
    "    face_img=img.copy()\n",
    "    face_react=face_cascade.detectMultiScale(face_img,scaleFactor=1.4,minNeighbors=5)\n",
    "    for (x,y,w,h) in face_react:\n",
    "        cv2.rectangle(face_img,(x,y),(x+w,y+h),(0,128,255),8)\n",
    "    return face_img\n",
    "    "
   ]
  },
  {
   "cell_type": "code",
   "execution_count": 128,
   "metadata": {},
   "outputs": [],
   "source": [
    "#function for face videostream\n",
    "def capture_face():\n",
    "    cap=cv2.VideoCapture(0)\n",
    "    width=int(cap.get(cv2.CAP_PROP_FRAME_WIDTH))\n",
    "    height=int(cap.get(cv2.CAP_PROP_FRAME_HEIGHT))\n",
    "    # for windows user VideoWriter_fourcc = *'DIVX'\n",
    "    #for MACOS or LINUX VideoWriter_Fourcc=*'XVID'\n",
    "    writer=cv2.VideoWriter('video.Mp4',cv2.VideoWriter_fourcc(*'DIVX'), 10, (width,height))#store mp4 file using writer function\n",
    "    while True:\n",
    "        ret,frame=cap.read()\n",
    "        writer.write(frame)\n",
    "        frame=detct_face(frame)\n",
    "   \n",
    "        cv2.imshow('video Face Detect',frame)\n",
    "        if cv2.waitKey(1) & 0xFF==27:\n",
    "            break\n",
    "    \n",
    "    cap.release()\n",
    "    cv2.destroyAllWindows()"
   ]
  },
  {
   "cell_type": "code",
   "execution_count": 129,
   "metadata": {},
   "outputs": [],
   "source": [
    "#train  eye .xml  file\n",
    "eye_cascade=cv2.CascadeClassifier('haarcascades/haarcascade_eye.xml')"
   ]
  },
  {
   "cell_type": "code",
   "execution_count": 130,
   "metadata": {},
   "outputs": [],
   "source": [
    "#train fullbody .xml file\n",
    "fullbody_cascade=cv2.CascadeClassifier('haarcascades/haarcascade_fullbody.xml')"
   ]
  },
  {
   "cell_type": "code",
   "execution_count": 131,
   "metadata": {},
   "outputs": [],
   "source": [
    "#function for fullbody\n",
    "def detect_fullbody(img):\n",
    "    fullbody_img=img.copy()\n",
    "    fullbody_react=fullbody_cascade.detectMultiScale(fullbody_img,scaleFactor=1.4,minNeighbors=5)\n",
    "    for (x,y,w,h) in fullbody_react:\n",
    "        cv2.rectangle(fullbody_img,(x,y),(x+w,y+h),(0,128,255),8)\n",
    "    return fullbody_img\n",
    "    "
   ]
  },
  {
   "cell_type": "code",
   "execution_count": 132,
   "metadata": {},
   "outputs": [],
   "source": [
    "#function for fullbody videoCapture\n",
    "def capture_fullbody():\n",
    "    cap=cv2.VideoCapture(0)\n",
    "    width=int(cap.get(cv2.CAP_PROP_FRAME_WIDTH))\n",
    "    height=int(cap.get(cv2.CAP_PROP_FRAME_HEIGHT))\n",
    "    writer=cv2.VideoWriter('video.Mp4',cv2.VideoWriter_fourcc(*'DIVX'), 10, (width,height))\n",
    "    while True:\n",
    "        ret,frame=cap.read()\n",
    "        writer.write(frame)\n",
    "        frame=detect_fullbody(frame)\n",
    "   \n",
    "        cv2.imshow('video Face Detect',frame)\n",
    "        if cv2.waitKey(1) & 0xFF==27:\n",
    "            break\n",
    "    \n",
    "    cap.release()\n",
    "    cv2.destroyAllWindows()"
   ]
  },
  {
   "cell_type": "code",
   "execution_count": null,
   "metadata": {},
   "outputs": [],
   "source": []
  },
  {
   "cell_type": "code",
   "execution_count": 133,
   "metadata": {},
   "outputs": [],
   "source": [
    "#eye detection function\n",
    "def detect_eye(img):\n",
    "    eye_img=img.copy()\n",
    "    eye_react=eye_cascade.detectMultiScale(eye_img,scaleFactor=1.2,minNeighbors=3)\n",
    "    for (x,y,w,h) in eye_react:\n",
    "        cv2.rectangle(eye_img,(x,y),(x+w,y+h),(0,128,255),8)\n",
    "    return eye_img\n",
    "    "
   ]
  },
  {
   "cell_type": "code",
   "execution_count": 134,
   "metadata": {},
   "outputs": [],
   "source": [
    "#eye video detection function\n",
    "def capture_eye():\n",
    "    cap=cv2.VideoCapture(0)\n",
    "    width=int(cap.get(cv2.CAP_PROP_FRAME_WIDTH))\n",
    "    height=int(cap.get(cv2.CAP_PROP_FRAME_HEIGHT))\n",
    "    writer=cv2.VideoWriter('video.Mp4',cv2.VideoWriter_fourcc(*'DIVX'), 10, (width,height))\n",
    "    while True:\n",
    "        ret,frame=cap.read()\n",
    "        writer.write(frame)\n",
    "        frame=detect_eye(frame)\n",
    "   \n",
    "        cv2.imshow('video Face Detect',frame)\n",
    "        if cv2.waitKey(1) & 0xFF==27:\n",
    "            break\n",
    "    \n",
    "    cap.release()\n",
    "    cv2.destroyAllWindows()"
   ]
  },
  {
   "cell_type": "code",
   "execution_count": 137,
   "metadata": {},
   "outputs": [],
   "source": [
    "\n",
    "root.title('Detection System By (Tushar Gharge)')\n",
    "#root.iconbitmap(\"detectionfinal.png\")\n",
    "\n",
    "#detecton.png image is user for icon of project \n",
    "#set path according to store image\n",
    "root.tk.call('wm', 'iconphoto', root._w, tk.PhotoImage(file='detection.png'))\n",
    "\n",
    "# pick a .gif image file you have in the working directory\n",
    "fname = \"bg1.gif\"\n",
    "bg_image = tk.PhotoImage(file=fname)\n",
    "# get the width and height of the image\n",
    "w = bg_image.width()\n",
    "h = bg_image.height()\n",
    "\n",
    "# size the window so the image will fill it\n",
    "root.geometry(\"%dx%d+50+30\" % (w, h))\n",
    "\n",
    "cv = tk.Canvas(width=w, height=h)\n",
    "cv.pack(side='top', fill='both', expand='yes')\n",
    "\n",
    "cv.create_image(0, 0, image=bg_image, anchor='nw')\n",
    "#Label use of Detection system Aim\n",
    "label1=Label(cv,text=\"                      Detection System                    \",bg=\"Blue\",fg=\"Red\",font=(\"Times\",20),bd=3).pack()\n",
    "Label(cv,text=\" \").pack()\n",
    "#Button call he capture_face function  for face Detection \n",
    "Button1=Button(cv,text=\"Face Detection\",command=capture_face,font=(\"Times\",16),height=1,width=18)\n",
    "Button1.pack()\n",
    "Label(cv,text=\" \").pack()\n",
    "\n",
    "#Button call he capture_face function  for face Detection \n",
    "Button2=Button(cv,text=\"Eye Detection\",command=capture_eye, font=(\"Times\",16),height=1,width=18)\n",
    "Button2.pack()\n",
    "Label(cv,text=\" \").pack()\n",
    "\n",
    "#Button call he capture_face function  for face Detection \n",
    "Button3=Button(cv,text=\"FullBody Detection\",command=capture_fullbody,font=(\"Times\",16),height=1,width=18)\n",
    "Button3.pack()\n",
    "Label(root,text=\" \").pack()\n",
    "\n",
    "root.mainloop()\n"
   ]
  },
  {
   "cell_type": "code",
   "execution_count": null,
   "metadata": {},
   "outputs": [],
   "source": []
  },
  {
   "cell_type": "code",
   "execution_count": null,
   "metadata": {},
   "outputs": [],
   "source": []
  }
 ],
 "metadata": {
  "kernelspec": {
   "display_name": "Python 3",
   "language": "python",
   "name": "python3"
  },
  "language_info": {
   "codemirror_mode": {
    "name": "ipython",
    "version": 3
   },
   "file_extension": ".py",
   "mimetype": "text/x-python",
   "name": "python",
   "nbconvert_exporter": "python",
   "pygments_lexer": "ipython3",
   "version": "3.6.6"
  }
 },
 "nbformat": 4,
 "nbformat_minor": 2
}
